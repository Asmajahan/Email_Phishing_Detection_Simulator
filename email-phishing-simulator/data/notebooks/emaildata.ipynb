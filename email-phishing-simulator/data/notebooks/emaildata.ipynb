{
 "cells": [
  {
   "cell_type": "code",
   "execution_count": 1,
   "id": "8752a3e5",
   "metadata": {},
   "outputs": [
    {
     "name": "stdout",
     "output_type": "stream",
     "text": [
      "(537, 3)\n"
     ]
    },
    {
     "data": {
      "text/html": [
       "<div>\n",
       "<style scoped>\n",
       "    .dataframe tbody tr th:only-of-type {\n",
       "        vertical-align: middle;\n",
       "    }\n",
       "\n",
       "    .dataframe tbody tr th {\n",
       "        vertical-align: top;\n",
       "    }\n",
       "\n",
       "    .dataframe thead th {\n",
       "        text-align: right;\n",
       "    }\n",
       "</style>\n",
       "<table border=\"1\" class=\"dataframe\">\n",
       "  <thead>\n",
       "    <tr style=\"text-align: right;\">\n",
       "      <th></th>\n",
       "      <th>Subject</th>\n",
       "      <th>Body</th>\n",
       "      <th>Label</th>\n",
       "    </tr>\n",
       "  </thead>\n",
       "  <tbody>\n",
       "    <tr>\n",
       "      <th>0</th>\n",
       "      <td>HR Policy Updates</td>\n",
       "      <td>Please find attached the project updates and t...</td>\n",
       "      <td>legit</td>\n",
       "    </tr>\n",
       "    <tr>\n",
       "      <th>1</th>\n",
       "      <td>HR Policy Updates</td>\n",
       "      <td>Let me know if 3 PM works for the meeting.</td>\n",
       "      <td>legit</td>\n",
       "    </tr>\n",
       "    <tr>\n",
       "      <th>2</th>\n",
       "      <td>HR Policy Updates</td>\n",
       "      <td>Your quarterly review is scheduled for next week.</td>\n",
       "      <td>legit</td>\n",
       "    </tr>\n",
       "    <tr>\n",
       "      <th>3</th>\n",
       "      <td>Your account has been suspended</td>\n",
       "      <td>Click the link below to verify your account im...</td>\n",
       "      <td>phishing</td>\n",
       "    </tr>\n",
       "    <tr>\n",
       "      <th>4</th>\n",
       "      <td>Claim your reward today!</td>\n",
       "      <td>Reset your credentials to avoid security issues.</td>\n",
       "      <td>phishing</td>\n",
       "    </tr>\n",
       "  </tbody>\n",
       "</table>\n",
       "</div>"
      ],
      "text/plain": [
       "                           Subject  \\\n",
       "0                HR Policy Updates   \n",
       "1                HR Policy Updates   \n",
       "2                HR Policy Updates   \n",
       "3  Your account has been suspended   \n",
       "4         Claim your reward today!   \n",
       "\n",
       "                                                Body     Label  \n",
       "0  Please find attached the project updates and t...     legit  \n",
       "1         Let me know if 3 PM works for the meeting.     legit  \n",
       "2  Your quarterly review is scheduled for next week.     legit  \n",
       "3  Click the link below to verify your account im...  phishing  \n",
       "4   Reset your credentials to avoid security issues.  phishing  "
      ]
     },
     "execution_count": 1,
     "metadata": {},
     "output_type": "execute_result"
    }
   ],
   "source": [
    "import pandas as pd\n",
    "\n",
    "df = pd.read_csv(r\"C:\\Users\\asmaj\\Downloads\\email_dataset (1).csv\")\n",
    "print(df.shape)\n",
    "df.head()"
   ]
  },
  {
   "cell_type": "code",
   "execution_count": 2,
   "id": "ae7c6b86",
   "metadata": {},
   "outputs": [
    {
     "name": "stdout",
     "output_type": "stream",
     "text": [
      "   Label                                          EmailText\n",
      "0      0  HR Policy Updates Please find attached the pro...\n",
      "1      0  HR Policy Updates Let me know if 3 PM works fo...\n",
      "2      0  HR Policy Updates Your quarterly review is sch...\n",
      "3      1  Your account has been suspended Click the link...\n",
      "4      1  Claim your reward today! Reset your credential...\n"
     ]
    }
   ],
   "source": [
    "# Combine Subject and Body into a new column\n",
    "df[\"EmailText\"] = df[\"Subject\"] + \" \" + df[\"Body\"]\n",
    "\n",
    "# Drop the original columns\n",
    "df = df.drop(columns=[\"Subject\", \"Body\"])\n",
    "df = df.dropna()\n",
    "\n",
    "df['Label'] = df['Label'].map({'legit': 0, 'phishing': 1}) \n",
    "print(df.head())\n",
    "\n",
    "df.to_csv(\"combined_email_dataset.cvs\", index=False)"
   ]
  },
  {
   "cell_type": "code",
   "execution_count": 3,
   "id": "f77b6257",
   "metadata": {},
   "outputs": [
    {
     "name": "stdout",
     "output_type": "stream",
     "text": [
      "              precision    recall  f1-score   support\n",
      "\n",
      "           0       1.00      1.00      1.00        58\n",
      "           1       1.00      1.00      1.00        50\n",
      "\n",
      "    accuracy                           1.00       108\n",
      "   macro avg       1.00      1.00      1.00       108\n",
      "weighted avg       1.00      1.00      1.00       108\n",
      "\n",
      "Accuracy: 1.0\n"
     ]
    },
    {
     "data": {
      "text/plain": [
       "['C:\\\\Users\\\\asmaj\\\\Downloads\\\\email-phishing-simulator\\\\data\\\\notebooks\\\\app\\\\model\\\\phishing_model.pkl']"
      ]
     },
     "execution_count": 3,
     "metadata": {},
     "output_type": "execute_result"
    }
   ],
   "source": [
    "import pandas as pd\n",
    "import numpy as np\n",
    "import re\n",
    "from sklearn.feature_extraction.text import TfidfVectorizer\n",
    "from scipy.sparse import hstack, csr_matrix\n",
    "from sklearn.model_selection import train_test_split\n",
    "from sklearn.ensemble import RandomForestClassifier\n",
    "from sklearn.metrics import classification_report, accuracy_score\n",
    "import joblib\n",
    "\n",
    "# === Load preprocessed dataset ===\n",
    "df = pd.read_csv(r\"combined_email_dataset.cvs\")\n",
    "\n",
    "# === Clean the email text ===\n",
    "def clean_email(text):\n",
    "    text = str(text).lower()\n",
    "    text = re.sub(r'<.*?>', '', text)\n",
    "    text = re.sub(r'\\W', ' ', text)\n",
    "    text = re.sub(r'\\s+', ' ', text).strip()\n",
    "    return text\n",
    "\n",
    "df['clean_text'] = df['EmailText'].apply(clean_email)\n",
    "\n",
    "# === Extract binary features ===\n",
    "def extract_features(text):\n",
    "    text = text.lower()\n",
    "    has_link = int(bool(re.search(r'http[s]?://|www\\.', text)))\n",
    "    has_money_words = int(bool(re.search(r'win|prize|gift|money|cash|reward', text)))\n",
    "    has_urgent_words = int(bool(re.search(r'urgent|immediate|alert|important|verify', text)))\n",
    "    has_bank_words = int(bool(re.search(r'bank|account|secure|login|password', text)))\n",
    "    return np.array([has_link, has_money_words, has_urgent_words, has_bank_words])\n",
    "\n",
    "binary_feats = np.vstack(df['EmailText'].apply(extract_features).values)\n",
    "\n",
    "# === TF-IDF vectorization ===\n",
    "tfidf = TfidfVectorizer(max_features=5000)\n",
    "X_tfidf = tfidf.fit_transform(df['clean_text'])\n",
    "\n",
    "# === Combine TF-IDF and binary features ===\n",
    "X = hstack([X_tfidf, csr_matrix(binary_feats)])\n",
    "y = df['Label']\n",
    "\n",
    "# === Train-test split ===\n",
    "X_train, X_test, y_train, y_test = train_test_split(\n",
    "    X, y, test_size=0.2, random_state=42, stratify=y\n",
    ")\n",
    "\n",
    "# === Train Random Forest model ===\n",
    "model = RandomForestClassifier(n_estimators=100, random_state=42)\n",
    "model.fit(X_train, y_train)\n",
    "\n",
    "# === Evaluate the model ===\n",
    "y_pred = model.predict(X_test)\n",
    "print(classification_report(y_test, y_pred))\n",
    "print(\"Accuracy:\", accuracy_score(y_test, y_pred))\n",
    "\n",
    "# === Save model and vectorizer ===\n",
    "joblib.dump(tfidf, r'C:\\Users\\asmaj\\Downloads\\email-phishing-simulator\\data\\notebooks\\app\\model\\tfidf_vectorizer.pkl')\n",
    "joblib.dump(model, r'C:\\Users\\asmaj\\Downloads\\email-phishing-simulator\\data\\notebooks\\app\\model\\phishing_model.pkl')\n"
   ]
  },
  {
   "cell_type": "code",
   "execution_count": null,
   "id": "86facc80",
   "metadata": {},
   "outputs": [],
   "source": []
  }
 ],
 "metadata": {
  "kernelspec": {
   "display_name": "Python 3",
   "language": "python",
   "name": "python3"
  },
  "language_info": {
   "codemirror_mode": {
    "name": "ipython",
    "version": 3
   },
   "file_extension": ".py",
   "mimetype": "text/x-python",
   "name": "python",
   "nbconvert_exporter": "python",
   "pygments_lexer": "ipython3",
   "version": "3.10.11"
  }
 },
 "nbformat": 4,
 "nbformat_minor": 5
}
