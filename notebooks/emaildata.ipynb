{
 "cells": [
  {
   "cell_type": "code",
   "execution_count": 1,
   "id": "7286e4a7",
   "metadata": {},
   "outputs": [
    {
     "name": "stdout",
     "output_type": "stream",
     "text": [
      "              precision    recall  f1-score   support\n",
      "\n",
      "           0       1.00      1.00      1.00        58\n",
      "           1       1.00      1.00      1.00        50\n",
      "\n",
      "    accuracy                           1.00       108\n",
      "   macro avg       1.00      1.00      1.00       108\n",
      "weighted avg       1.00      1.00      1.00       108\n",
      "\n",
      "Accuracy: 1.0\n"
     ]
    },
    {
     "data": {
      "text/plain": [
       "['../model/phishing_model.pkl']"
      ]
     },
     "execution_count": 1,
     "metadata": {},
     "output_type": "execute_result"
    }
   ],
   "source": [
    "import pandas as pd\n",
    "import numpy as np\n",
    "import re\n",
    "import os\n",
    "from sklearn.feature_extraction.text import TfidfVectorizer\n",
    "from scipy.sparse import hstack, csr_matrix\n",
    "from sklearn.model_selection import train_test_split\n",
    "from sklearn.ensemble import RandomForestClassifier\n",
    "from sklearn.metrics import classification_report, accuracy_score\n",
    "import joblib\n",
    "\n",
    "# === Load Dataset ===\n",
    "df = pd.read_csv(\"../data/email_dataset.csv\")\n",
    "\n",
    "# === Combine Subject and Body ===\n",
    "df[\"EmailText\"] = df[\"Subject\"].fillna('') + \" \" + df[\"Body\"].fillna('')\n",
    "df.drop(columns=[\"Subject\", \"Body\"], inplace=True)\n",
    "df.dropna(inplace=True)\n",
    "\n",
    "# === Encode Labels ===\n",
    "df['Label'] = df['Label'].map({'legit': 0, 'phishing': 1})\n",
    "\n",
    "# === Save Combined Dataset ===\n",
    "df.to_csv(\"../data/combined_email_dataset.csv\", index=False)\n",
    "\n",
    "# === Clean Text Function ===\n",
    "def clean_email(text):\n",
    "    text = str(text).lower()\n",
    "    text = re.sub(r'<.*?>', '', text)\n",
    "    text = re.sub(r'\\W', ' ', text)\n",
    "    text = re.sub(r'\\s+', ' ', text).strip()\n",
    "    return text\n",
    "\n",
    "df['clean_text'] = df['EmailText'].apply(clean_email)\n",
    "\n",
    "# === Extract Binary Features ===\n",
    "def extract_features(text):\n",
    "    text = text.lower()\n",
    "    has_link = int(bool(re.search(r'http[s]?://|www\\.', text)))\n",
    "    has_money_words = int(bool(re.search(r'win|prize|gift|money|cash|reward', text)))\n",
    "    has_urgent_words = int(bool(re.search(r'urgent|immediate|alert|important|verify', text)))\n",
    "    has_bank_words = int(bool(re.search(r'bank|account|secure|login|password', text)))\n",
    "    return np.array([has_link, has_money_words, has_urgent_words, has_bank_words])\n",
    "\n",
    "binary_feats = np.vstack(df['EmailText'].apply(extract_features).values)\n",
    "\n",
    "# === TF-IDF ===\n",
    "tfidf = TfidfVectorizer(max_features=5000)\n",
    "X_tfidf = tfidf.fit_transform(df['clean_text'])\n",
    "\n",
    "# === Combine Features ===\n",
    "X = hstack([X_tfidf, csr_matrix(binary_feats)])\n",
    "y = df['Label']\n",
    "\n",
    "# === Train-Test Split ===\n",
    "X_train, X_test, y_train, y_test = train_test_split(X, y, test_size=0.2, random_state=42, stratify=y)\n",
    "\n",
    "# === Train Model ===\n",
    "model = RandomForestClassifier(n_estimators=100, random_state=42)\n",
    "model.fit(X_train, y_train)\n",
    "\n",
    "# === Evaluate ===\n",
    "y_pred = model.predict(X_test)\n",
    "print(classification_report(y_test, y_pred))\n",
    "print(\"Accuracy:\", accuracy_score(y_test, y_pred))\n",
    "\n",
    "# === Save Model and Vectorizer ===\n",
    "os.makedirs(\"../model\", exist_ok=True)\n",
    "joblib.dump(tfidf, \"../model/tfidf_vectorizer.pkl\")\n",
    "joblib.dump(model, \"../model/phishing_model.pkl\")\n"
   ]
  },
  {
   "cell_type": "code",
   "execution_count": null,
   "id": "a265914d",
   "metadata": {},
   "outputs": [],
   "source": []
  }
 ],
 "metadata": {
  "kernelspec": {
   "display_name": "Python 3",
   "language": "python",
   "name": "python3"
  },
  "language_info": {
   "codemirror_mode": {
    "name": "ipython",
    "version": 3
   },
   "file_extension": ".py",
   "mimetype": "text/x-python",
   "name": "python",
   "nbconvert_exporter": "python",
   "pygments_lexer": "ipython3",
   "version": "3.10.11"
  }
 },
 "nbformat": 4,
 "nbformat_minor": 5
}
